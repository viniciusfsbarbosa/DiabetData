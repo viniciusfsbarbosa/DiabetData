{
 "cells": [
  {
   "cell_type": "code",
   "execution_count": 46,
   "id": "2b6fff50",
   "metadata": {},
   "outputs": [],
   "source": [
    "import pandas as pd\n",
    "import numpy as np\n",
    "from sklearn.model_selection import train_test_split\n",
    "from sklearn.model_selection import train_test_split\n",
    "from sklearn.tree import DecisionTreeClassifier\n",
    "from sklearn.metrics import accuracy_score\n",
    "from sklearn.metrics import confusion_matrix\n",
    "from sklearn.metrics import ConfusionMatrixDisplay\n",
    "import matplotlib.pyplot as plt"
   ]
  },
  {
   "cell_type": "code",
   "execution_count": 47,
   "id": "ab98776b",
   "metadata": {},
   "outputs": [],
   "source": [
    "# Leiturado dataframe\n",
    "df_diabet = pd.read_csv(\"diabetes.csv\")"
   ]
  },
  {
   "cell_type": "code",
   "execution_count": 48,
   "id": "4751909b",
   "metadata": {},
   "outputs": [
    {
     "data": {
      "text/plain": [
       "(768, 9)"
      ]
     },
     "execution_count": 48,
     "metadata": {},
     "output_type": "execute_result"
    }
   ],
   "source": [
    "df_diabet.shape"
   ]
  },
  {
   "cell_type": "code",
   "execution_count": null,
   "id": "31e5ddc1",
   "metadata": {},
   "outputs": [],
   "source": [
    "# Exibindo as 3 primeiras linhas do dataframe\n",
    "df_diabet.head(3)"
   ]
  },
  {
   "cell_type": "code",
   "execution_count": 50,
   "id": "901cb556",
   "metadata": {},
   "outputs": [
    {
     "name": "stdout",
     "output_type": "stream",
     "text": [
      "Media:\n",
      "Pregnancies                   3.845052\n",
      "Glucose                     120.894531\n",
      "BloodPressure                69.105469\n",
      "SkinThickness                20.536458\n",
      "Insulin                      79.799479\n",
      "BMI                          31.992578\n",
      "DiabetesPedigreeFunction      0.471876\n",
      "Age                          33.240885\n",
      "Outcome                       0.348958\n",
      "dtype: float64\n"
     ]
    }
   ],
   "source": [
    "# Média\n",
    "media = df_diabet.mean()\n",
    "\n",
    "print(\"Media:\")\n",
    "print(media)"
   ]
  },
  {
   "cell_type": "code",
   "execution_count": 51,
   "id": "51393a7c",
   "metadata": {},
   "outputs": [
    {
     "name": "stdout",
     "output_type": "stream",
     "text": [
      "\n",
      " Desvio Padrão:\n",
      "Pregnancies                   3.369578\n",
      "Glucose                      31.972618\n",
      "BloodPressure                19.355807\n",
      "SkinThickness                15.952218\n",
      "Insulin                     115.244002\n",
      "BMI                           7.884160\n",
      "DiabetesPedigreeFunction      0.331329\n",
      "Age                          11.760232\n",
      "Outcome                       0.476951\n",
      "dtype: float64\n"
     ]
    }
   ],
   "source": [
    "# Desvio padrão\n",
    "desvio_padrao = df_diabet.std()\n",
    "\n",
    "print(\"\\n Desvio Padrão:\")\n",
    "print(desvio_padrao)"
   ]
  },
  {
   "cell_type": "code",
   "execution_count": 52,
   "id": "0a4f62f2",
   "metadata": {},
   "outputs": [
    {
     "name": "stdout",
     "output_type": "stream",
     "text": [
      "Shape do conjunto de treino (X_train): (537, 8)\n",
      "Shape do conjunto de teste (X_test): (231, 8)\n",
      "Shape do conjunto de treino do alvo (y_train): (537,)\n",
      "Shape do conjunto de teste do alvo (y_test): (231,)\n"
     ]
    }
   ],
   "source": [
    "# Divisão do algoritimo em treino e teste. As métricas utilizadas foram 70% treino e 30% teste\n",
    "X = df_diabet.drop('Outcome', axis=1)\n",
    "Y = df_diabet['Outcome']\n",
    "\n",
    "X_train, X_test, y_train, y_test = train_test_split(X, y, test_size=0.3, random_state=42)\n",
    "\n",
    "print(\"Shape do conjunto de treino (X_train):\", X_train.shape)\n",
    "print(\"Shape do conjunto de teste (X_test):\", X_test.shape)\n",
    "print(\"Shape do conjunto de treino do alvo (y_train):\", y_train.shape)\n",
    "print(\"Shape do conjunto de teste do alvo (y_test):\", y_test.shape)"
   ]
  },
  {
   "cell_type": "code",
   "execution_count": 53,
   "id": "bc3eac6c",
   "metadata": {},
   "outputs": [
    {
     "name": "stdout",
     "output_type": "stream",
     "text": [
      "Acurácia do modelo: 0.70\n",
      "CPU times: total: 15.6 ms\n",
      "Wall time: 11 ms\n"
     ]
    }
   ],
   "source": [
    "#Treinando o algorítimo baseado em Desicion Tree e Acurácia do resultado\n",
    "%%time\n",
    "\n",
    "learn = DecisionTreeClassifier(random_state=42)\n",
    "\n",
    "learn.fit(X_train, y_train)\n",
    "y_pred = learn.predict(X_test)\n",
    "\n",
    "accuracy = accuracy_score(y_test, y_pred)\n",
    "print(f'Acurácia do modelo: {accuracy:.2f}')"
   ]
  },
  {
   "cell_type": "code",
   "execution_count": 54,
   "id": "1304f87a",
   "metadata": {},
   "outputs": [
    {
     "data": {
      "image/png": "[encoded data removed]",
      "text/plain": [
       "<Figure size 432x288 with 2 Axes>"
      ]
     },
     "metadata": {
      "needs_background": "light"
     },
     "output_type": "display_data"
    }
   ],
   "source": [
    "#Matriz de confusão para analise de resultados\n",
    "\n",
    "conf_matrix = confusion_matrix(y_test, y_pred.round())\n",
    "\n",
    "disp = ConfusionMatrixDisplay(confusion_matrix=conf_matrix)\n",
    "disp.plot()\n",
    "plt.title('Confusion Matrix')\n",
    "plt.show()"
   ]
  }
 ],
 "metadata": {
  "kernelspec": {
   "display_name": "Python 3 (ipykernel)",
   "language": "python",
   "name": "python3"
  },
  "language_info": {
   "codemirror_mode": {
    "name": "ipython",
    "version": 3
   },
   "file_extension": ".py",
   "mimetype": "text/x-python",
   "name": "python",
   "nbconvert_exporter": "python",
   "pygments_lexer": "ipython3",
   "version": "3.9.12"
  }
 },
 "nbformat": 4,
 "nbformat_minor": 5
}
